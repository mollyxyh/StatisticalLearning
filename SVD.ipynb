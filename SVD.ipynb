{
 "cells": [
  {
   "cell_type": "code",
   "execution_count": 1,
   "metadata": {},
   "outputs": [],
   "source": [
    "import numpy as np"
   ]
  },
  {
   "cell_type": "code",
   "execution_count": 2,
   "metadata": {},
   "outputs": [],
   "source": [
    "def rebuildMatrix(U, sigma, V): # based on SVD\n",
    "\n",
    "    return U @ sigma @ V.T\n",
    "\n",
    "def sortByEigenValue(eigenValue, eigenVector):\n",
    "    index = np.argsort(-eigenValue) # rank by descending order\n",
    "    eigenValue = eigenValue[index]\n",
    "    eigenVector = eigenVector[:, index]  \n",
    "    return eigenValue, eigenVector\n",
    "\n",
    "def SVD(A, numOfLeft=None):\n",
    "    # numOfLeft: number of singular values we wanna keep\n",
    "    \n",
    "    AAT = np.dot(A, A.T)\n",
    "    ATA = np.dot(A.T, A)\n",
    "    \n",
    "    lambda_U, X_U = np.linalg.eig(AAT)\n",
    "    lambda_U, X_U = sortByEigenValue(lambda_U, X_U)\n",
    "    \n",
    "    lambda_V, X_V = np.linalg.eig(ATA)\n",
    "    lambda_V, X_V = sortByEigenValue(lambda_V, X_V)\n",
    "    \n",
    "    sigma = lambda_U\n",
    "    sigma = list(map(lambda x: np.sqrt(x) if x > 0 else 0, sigma))\n",
    "    sigma = np.array(sigma)\n",
    "    sigmaMatrix = np.diag(sigma)\n",
    "    \n",
    "    if not numOfLeft:\n",
    "        rankOfSigmaMatrix = len(list(filter(lambda x: x > 0, sigma)))\n",
    "    else:\n",
    "        rankOfSigmaMatrix = numOfLeft\n",
    "    \n",
    "    sigmaMatrix = sigmaMatrix[:rankOfSigmaMatrix, :]\n",
    "    \n",
    "    sigmaMatrix = sigmaMatrix[:rankOfSigmaMatrix, :rankOfSigmaMatrix]\n",
    "    X_V = X_V[:, 0:numOfLeft]\n",
    "    X_U = X_U[:, 0:numOfLeft]\n",
    "    \n",
    "    return X_U, sigmaMatrix, X_V"
   ]
  },
  {
   "cell_type": "code",
   "execution_count": 3,
   "metadata": {},
   "outputs": [],
   "source": [
    "A = np.array([[0, 0, 0, 2, 2],\n",
    "              [0, 0, 0, 3, 3],\n",
    "              [0, 0, 0, 1, 1],\n",
    "              [1, 1, 1, 0, 0],\n",
    "              [2, 2, 2, 0, 0],\n",
    "              [5, 5, 5, 0, 0],\n",
    "              [1, 1, 1, 0, 0]])\n",
    "\n",
    "U, sigma, V = SVD(A, numOfLeft=3)"
   ]
  },
  {
   "cell_type": "code",
   "execution_count": 4,
   "metadata": {},
   "outputs": [
    {
     "data": {
      "text/plain": [
       "array([[ 0.00000000e+00,  0.00000000e+00,  0.00000000e+00,\n",
       "         2.00000000e+00,  2.00000000e+00],\n",
       "       [ 0.00000000e+00,  0.00000000e+00,  0.00000000e+00,\n",
       "         3.00000000e+00,  3.00000000e+00],\n",
       "       [ 0.00000000e+00,  0.00000000e+00,  0.00000000e+00,\n",
       "         1.00000000e+00,  1.00000000e+00],\n",
       "       [-1.00000000e+00, -1.00000000e+00, -1.00000000e+00,\n",
       "        -1.23053129e-16,  1.23053129e-16],\n",
       "       [-2.00000000e+00, -2.00000000e+00, -2.00000000e+00,\n",
       "         8.20354191e-18, -8.20354191e-18],\n",
       "       [-5.00000000e+00, -5.00000000e+00, -5.00000000e+00,\n",
       "         7.69960231e-17, -7.69960231e-17],\n",
       "       [-1.00000000e+00, -1.00000000e+00, -1.00000000e+00,\n",
       "        -2.78334071e-16,  2.78334071e-16]])"
      ]
     },
     "execution_count": 4,
     "metadata": {},
     "output_type": "execute_result"
    }
   ],
   "source": [
    "rebuildMatrix(U, sigma, V)"
   ]
  },
  {
   "cell_type": "code",
   "execution_count": null,
   "metadata": {},
   "outputs": [],
   "source": []
  }
 ],
 "metadata": {
  "kernelspec": {
   "display_name": "Python 3",
   "language": "python",
   "name": "python3"
  },
  "language_info": {
   "codemirror_mode": {
    "name": "ipython",
    "version": 3
   },
   "file_extension": ".py",
   "mimetype": "text/x-python",
   "name": "python",
   "nbconvert_exporter": "python",
   "pygments_lexer": "ipython3",
   "version": "3.7.4"
  }
 },
 "nbformat": 4,
 "nbformat_minor": 2
}
